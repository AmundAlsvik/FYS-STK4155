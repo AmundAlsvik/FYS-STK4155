{
 "cells": [
  {
   "cell_type": "markdown",
   "id": "b4005770",
   "metadata": {},
   "source": [
    "# Exercises week 35\n",
    "\n",
    "## Deriving and Implementing Ordinary Least Squares"
   ]
  },
  {
   "cell_type": "markdown",
   "id": "2ca1b589",
   "metadata": {},
   "source": [
    "This week you will be deriving the analytical expressions for linear regression, building up the model from scratch. This will include taking several derivatives of products of vectors and matrices. Such derivatives are central to the optimization of many machine learning models. Although we will often use automatic differentiation in actual calculations, to be able to have analytical expressions is extremely helpful in case we have simpler derivatives as well as when we analyze various properties (like second derivatives) of the chosen cost functions.\n",
    "\n",
    "Vectors are always written as boldfaced lower case letters and matrices as upper case boldfaced letters. You will find useful the notes from week 35 on derivatives of vectors and matrices. See also the textbook of Faisal at al, chapter 5 and in particular sections 5.3-5.5 at <https://github.com/CompPhysics/MachineLearning/blob/master/doc/Textbooks/MathMLbook.pdf>"
   ]
  },
  {
   "cell_type": "markdown",
   "id": "41e92bf9",
   "metadata": {},
   "source": [
    "### Learning goals\n",
    "\n",
    "After completing these exercises, you will know how to\n",
    "- Take the derivatives of simple products between vectors and matrices\n",
    "- Implement OLS using the analytical expressions\n",
    "- Create a feature matrix from a set of data\n",
    "- Create a feature matrix for a polynomial model\n",
    "- Evaluate the MSE score of various model on training and test data, and comparing their performance\n",
    "\n",
    "### Deliverables\n",
    "\n",
    "Complete the following exercises while working in a jupyter notebook. Then, in canvas, include\n",
    "- The jupyter notebook with the exercises completed\n",
    "- An exported PDF of the notebook (https://code.visualstudio.com/docs/datascience/jupyter-notebooks#_export-your-jupyter-notebook)"
   ]
  },
  {
   "cell_type": "markdown",
   "id": "f7a9209d",
   "metadata": {},
   "source": [
    "## How to take derivatives of Matrix-Vector expressions"
   ]
  },
  {
   "cell_type": "markdown",
   "id": "45f3712e",
   "metadata": {},
   "source": [
    "In these exercises it is always useful to write out with summation indices the various quantities. Take also a look at the weekly slides from week 35 and the various examples included there.\n",
    "\n",
    "As an example, consider the function\n",
    "\n",
    "$$\n",
    "f(\\boldsymbol{x}) =\\boldsymbol{A}\\boldsymbol{x},\n",
    "$$\n",
    "\n",
    "which reads for a specific component $f_i$ (we define the matrix $\\boldsymbol{A}$ to have dimension $n\\times n$ and the vector $\\boldsymbol{x}$ to have length $n$)\n",
    "\n",
    "$$\n",
    "f_i =\\sum_{j=0}^{n-1}a_{ij}x_j,\n",
    "$$\n",
    "\n",
    "which leads to\n",
    "\n",
    "$$\n",
    "\\frac{\\partial f_i}{\\partial x_j}= a_{ij},\n",
    "$$\n",
    "\n",
    "and written out in terms of the vector $\\boldsymbol{x}$ we have\n",
    "\n",
    "$$\n",
    "\\frac{\\partial f(\\boldsymbol{x})}{\\partial \\boldsymbol{x}}= \\boldsymbol{A}.\n",
    "$$"
   ]
  },
  {
   "cell_type": "markdown",
   "id": "5fa8a4e6",
   "metadata": {},
   "source": [
    "## Exercise 1 - Finding the derivative of Matrix-Vector expressions"
   ]
  },
  {
   "cell_type": "markdown",
   "id": "df7a2270",
   "metadata": {},
   "source": [
    "**a)** Consider the expression\n",
    "\n",
    "$$\n",
    "\\frac{\\partial (\\boldsymbol{a}^T\\boldsymbol{x})}{\\partial \\boldsymbol{x}},\n",
    "$$\n",
    "\n",
    "Where $\\boldsymbol{a}$ and $\\boldsymbol{x}$ are column-vectors with length $n$.\n",
    "\n",
    "What is the *shape* of the expression we are taking the derivative of?\n",
    "\n",
    "What is the *shape* of the thing we are taking the derivative with respect to?\n",
    "\n",
    "What is the *shape* of the result of the expression?"
   ]
  },
  {
   "cell_type": "markdown",
   "id": "c0396734",
   "metadata": {},
   "source": [
    "**b)** Show that\n",
    "\n",
    "$$\n",
    "\\frac{\\partial (\\boldsymbol{a}^T\\boldsymbol{x})}{\\partial \\boldsymbol{x}} = \\boldsymbol{a}^T,\n",
    "$$"
   ]
  },
  {
   "cell_type": "markdown",
   "id": "dc39d541",
   "metadata": {},
   "source": [
    "**c)** Show that\n",
    "\n",
    "$$\n",
    "\\frac{\\partial (\\boldsymbol{a}^T\\boldsymbol{A}\\boldsymbol{a})}{\\partial \\boldsymbol{a}} = \\boldsymbol{a}^T(\\boldsymbol{A}+\\boldsymbol{A}^T),\n",
    "$$"
   ]
  },
  {
   "cell_type": "markdown",
   "id": "79de876a",
   "metadata": {},
   "source": [
    "**Solution:**\n",
    "\n",
    "**a)** $a^Tx$ is a scalar. The shape of $x$ is $(n,1)$. The result is $a^T$ and has shape $(1,n)$. \n",
    "\n",
    "**b)** We first note that $a^T x = \\sum_{k=0}^{n-1} a_k x_k$. Hence we find that the partial derivates of the expression is given by\n",
    "\n",
    "$$\n",
    "\\frac{\\partial a^T x}{\\partial x_i} = \\frac{\\partial}{\\partial x_i} \\left( \\sum_{k=0}^{n-1} a_k x_k \\right) = \\sum_{k=0}^{n-1} \\frac{\\partial}{\\partial x_i}(x_k) = \\sum_{k=0}^{n-1} a_k \\delta_{ki} = a_i.\n",
    "$$\n",
    "Thus we see that $$\\frac{\\partial a^T x}{\\partial x} = (a_0 , \\dots , a_{n-1}) = a^T.$$\n",
    "\n",
    "**c)** We let $u(a) = a$ and $v(a) = Aa$. By the product rule for inner products we get that \n",
    "\n",
    "$$\n",
    "\\frac{\\partial a^T Aa}{\\partial a} = \\frac{u(a)^T v(a)}{\\partial a} = u(a)^T \\frac{\\partial v(a)}{\\partial a} + v(a)^T \\frac{\\partial u(a)}{\\partial a} = a^TA + a^TA = a^T (A + A^T). \n",
    "$$"
   ]
  },
  {
   "cell_type": "markdown",
   "id": "498d13ec",
   "metadata": {},
   "source": [
    "## Exercise 2 - Deriving the expression for OLS"
   ]
  },
  {
   "cell_type": "markdown",
   "id": "f3f771de",
   "metadata": {},
   "source": [
    "The ordinary least squares method finds the parameters $\\boldsymbol{\\theta}$ which minimizes the squared error between our model $\\boldsymbol{X\\theta}$ and the true values $\\boldsymbol{y}$.\n",
    "\n",
    "To find the parameters $\\boldsymbol{\\theta}$ which minimizes this error, we take the derivative of the squared error expression with respect to $\\boldsymbol{\\theta}$, and set it equal to 0."
   ]
  },
  {
   "cell_type": "markdown",
   "id": "49690237",
   "metadata": {},
   "source": [
    "**a)** Very briefly explain why the approach above finds the parameters $\\boldsymbol{\\theta}$ which minimizes this error."
   ]
  },
  {
   "cell_type": "markdown",
   "id": "b7cccc9d",
   "metadata": {},
   "source": [
    "We typically write the squared error as\n",
    "\n",
    "$$\n",
    "\\vert\\vert\\boldsymbol{y} - \\boldsymbol{X\\theta}\\vert\\vert^2\n",
    "$$\n",
    "\n",
    "which we can rewrite in matrix-vector form as\n",
    "\n",
    "$$\n",
    "\\left(\\boldsymbol{y}-\\boldsymbol{X}\\boldsymbol{\\theta}\\right)^T\\left(\\boldsymbol{y}-\\boldsymbol{X}\\boldsymbol{\\theta}\\right)\n",
    "$$"
   ]
  },
  {
   "cell_type": "markdown",
   "id": "8fbecf74",
   "metadata": {},
   "source": [
    "**b)** If $\\boldsymbol{X}$ is invertible, what is the expression for the optimal parameters $\\boldsymbol{\\theta}$? (**Hint:** Don't compute any derivatives, but solve $\\boldsymbol{X\\theta}=\\boldsymbol{y}$ for $\\boldsymbol{\\theta}$)"
   ]
  },
  {
   "cell_type": "markdown",
   "id": "f37af8f0",
   "metadata": {},
   "source": [
    "**c)** Show that\n",
    "\n",
    "$$\n",
    "\\frac{\\partial \\left(\\boldsymbol{x}-\\boldsymbol{A}\\boldsymbol{s}\\right)^T\\left(\\boldsymbol{x}-\\boldsymbol{A}\\boldsymbol{s}\\right)}{\\partial \\boldsymbol{s}} = -2\\left(\\boldsymbol{x}-\\boldsymbol{A}\\boldsymbol{s}\\right)^T\\boldsymbol{A},\n",
    "$$"
   ]
  },
  {
   "cell_type": "markdown",
   "id": "869fca4d",
   "metadata": {},
   "source": [
    "**d)** Using the expression from **c)**, but substituting back in $\\boldsymbol{\\theta}$, $\\boldsymbol{y}$ and $\\boldsymbol{X}$, find the expression for the optimal parameters $\\boldsymbol{\\theta}$ in the case that $\\boldsymbol{X}$ is not invertible, but $\\boldsymbol{X^T X}$ is, which is most often the case.\n",
    "\n",
    "$$\n",
    "\\boldsymbol{\\hat{\\theta}_{OLS}} = ...\n",
    "$$"
   ]
  },
  {
   "cell_type": "markdown",
   "id": "c37ca288",
   "metadata": {},
   "source": [
    "**Solution:**\n",
    "\n",
    "**a)** Since the function $ \\lVert y - X \\theta \\rVert^2 $ is convex, we find the global minimum by finding the derivative and setting it to $0$.\n",
    "\n",
    "**b)** Assume $X$ is invertible. We find the minimum error when $X\\theta = y$. By multiplying with $X^{-1}$ on both sides of the equation, we get that $\\hat{\\theta} = X^{-1}y$ is the optimal parameter. \n",
    "\n",
    "**c)** We let $u(s) = (x - As)$ for $x$ fixed. Again we use the product formula for inner products to get that\n",
    "\n",
    "$$\n",
    "\\frac{\\partial \\left(x-As\\right)^T\\left(x-As\\right)}{\\partial s} = \\frac{\\partial u(s)^T u(s)}{\\partial s} = u(s)^T \\frac{\\partial u(s)}{\\partial s} + u(s)^T \\frac{u(s)}{\\partial s} = - (x - As)^T A - (x-As)^T A = -2 (x-As)^TA.\n",
    "$$\n",
    "\n",
    "**d)** Assume that $X^TX$ is invertible. From the previous exercise, we get that \n",
    "$$\n",
    "\\frac{\\partial \\left(y-X \\theta\\right)^T\\left(y-C \\theta\\right)}{\\partial \\theta} = -2 (y-X \\theta)^TX.\n",
    "$$\n",
    "By setting this expression equal to $0$ and solving for $\\theta$, we get that \n",
    "$$\n",
    "0 = (y - X \\theta)^T X = (y^T - \\theta^T X^T)X = \\theta^T X^T X - y^T X.\n",
    "$$\n",
    "Hence we get that\n",
    "$$\n",
    "\\theta^T X^T X = y^T X.\n",
    "$$\n",
    "Which then implies that \n",
    "$$\n",
    "\\theta^T = y^T X (X^T X)^{-1}.\n",
    "$$\n",
    "We know that $X^TX$ is self adjoint, hence it also has a self adjoint inverse. Thus we get that the optimal parameter is \n",
    "\n",
    "$$\n",
    "\\hat{\\theta} = ((X^TX)^{-1})^T X^T y = (X^T X)^{-1}X^T y.\n",
    "$$"
   ]
  },
  {
   "cell_type": "markdown",
   "id": "57ca3d74",
   "metadata": {},
   "source": [
    "## Exercise 3 - Creating feature matrix and implementing OLS using the analytical expression"
   ]
  },
  {
   "cell_type": "markdown",
   "id": "5dc179f7",
   "metadata": {},
   "source": [
    "With the expression for $\\boldsymbol{\\hat{\\theta}_{OLS}}$, you now have what you need to implement OLS regression with your input data and target data $\\boldsymbol{y}$. But before you can do that, you need to set up you input data as a feature matrix $\\boldsymbol{X}$.\n",
    "\n",
    "In a feature matrix, each row is a datapoint and each column is a feature of that data. If you want to predict someones spending based on their income and number of children, for instance, you would create a row for each person in your dataset, with the montly income and the number of children as columns.\n",
    "\n",
    "We typically also include an intercept in our models. The intercept is a value that is added to our prediction regardless of the value of the other features. The intercept tries to account for constant effects in our data that are not dependant on anything else. In our current example, the intercept could account for living expenses which are typical regardless of income or childcare expenses.\n",
    "\n",
    "We calculate the optimal intercept by including a feature with the constant value of 1 in our model, which is then multplied by some parameter $\\theta_0$ from the OLS method into the optimal intercept value (which will be $\\theta_0$). In practice, we include the intercept in our model by adding a column of ones to the start of our feature matrix."
   ]
  },
  {
   "cell_type": "code",
   "execution_count": 1,
   "id": "e5ff2a69",
   "metadata": {},
   "outputs": [],
   "source": [
    "import numpy as np"
   ]
  },
  {
   "cell_type": "code",
   "execution_count": 2,
   "id": "a3cf2792",
   "metadata": {},
   "outputs": [],
   "source": [
    "n = 20\n",
    "income = np.array([116., 161., 167., 118., 172., 163., 179., 173., 162., 116., 101., 176., 178., 172., 143., 135., 160., 101., 149., 125.])\n",
    "children = np.array([5, 3, 0, 4, 5, 3, 0, 4, 4, 3, 3, 5, 1, 0, 2, 3, 2, 1, 5, 4])\n",
    "spending = np.array([152., 141., 102., 136., 161., 129.,  99., 159., 160., 107.,  98., 164., 121.,  93., 112., 127., 117.,  69., 156., 131.])\n"
   ]
  },
  {
   "cell_type": "markdown",
   "id": "5da61481",
   "metadata": {},
   "source": [
    "**a)** Create a feature matrix $\\boldsymbol{X}$ for the features income and children, including an intercept column of ones at the start."
   ]
  },
  {
   "cell_type": "code",
   "execution_count": 3,
   "id": "5ad87a65",
   "metadata": {},
   "outputs": [
    {
     "name": "stdout",
     "output_type": "stream",
     "text": [
      "[[  1. 116.   5.]\n",
      " [  1. 161.   3.]\n",
      " [  1. 167.   0.]\n",
      " [  1. 118.   4.]\n",
      " [  1. 172.   5.]\n",
      " [  1. 163.   3.]\n",
      " [  1. 179.   0.]\n",
      " [  1. 173.   4.]\n",
      " [  1. 162.   4.]\n",
      " [  1. 116.   3.]\n",
      " [  1. 101.   3.]\n",
      " [  1. 176.   5.]\n",
      " [  1. 178.   1.]\n",
      " [  1. 172.   0.]\n",
      " [  1. 143.   2.]\n",
      " [  1. 135.   3.]\n",
      " [  1. 160.   2.]\n",
      " [  1. 101.   1.]\n",
      " [  1. 149.   5.]\n",
      " [  1. 125.   4.]]\n"
     ]
    }
   ],
   "source": [
    "X = np.zeros((n, 3))\n",
    "X[:, 0] = 1\n",
    "X[:, 1] = income\n",
    "X[:, 2] = children\n",
    "\n",
    "print(X)"
   ]
  },
  {
   "cell_type": "markdown",
   "id": "e0ddfac2",
   "metadata": {},
   "source": [
    "**b)** Use the expression from **2d)** to find the optimal parameters $\\boldsymbol{\\hat{\\beta}_{OLS}}$ for predicting spending based on these features. Create a function for this operation, as you are going to need to use it a lot."
   ]
  },
  {
   "cell_type": "code",
   "execution_count": 4,
   "id": "8f3f68aa",
   "metadata": {},
   "outputs": [],
   "source": [
    "def OLS_parameters(X, y):\n",
    "\n",
    "    beta = np.linalg.inv(X.T @ X) @ X.T @ y\n",
    "   \n",
    "    return beta\n",
    "\n",
    "\n",
    "beta = OLS_parameters(X,spending)"
   ]
  },
  {
   "cell_type": "markdown",
   "id": "180995d7",
   "metadata": {},
   "source": [
    "## Exercise 4 - Fitting a polynomial "
   ]
  },
  {
   "cell_type": "markdown",
   "id": "71015064",
   "metadata": {},
   "source": [
    "In this course, we typically do linear regression using polynomials, though in real world applications it is also very common to make linear models based on measured features like you did in the previous exercise.\n",
    "\n",
    "When fitting a polynomial with linear regression, we make each polynomial degree($x, x^2, x^3, ..., x^p$) its own feature."
   ]
  },
  {
   "cell_type": "code",
   "execution_count": 5,
   "id": "d7476c84",
   "metadata": {},
   "outputs": [],
   "source": [
    "n = 100\n",
    "x = np.linspace(-3, 3, n)\n",
    "y = np.exp(-x**2) + 1.5 * np.exp(-(x-2)**2) + np.random.normal(0, 0.1, n) #I added an n here since I assume we want a randomized error term for each evaluation of y? Is this a typo?"
   ]
  },
  {
   "cell_type": "markdown",
   "id": "8321451b",
   "metadata": {},
   "source": [
    "**a)** Create a feature matrix $\\boldsymbol{X}$ for the features $x, x^2, x^3, x^4, x^5$, including an intercept column of ones at the start. Make this into a function, as you will do this a lot over the next weeks."
   ]
  },
  {
   "cell_type": "code",
   "execution_count": 6,
   "id": "91496e40",
   "metadata": {},
   "outputs": [
    {
     "name": "stdout",
     "output_type": "stream",
     "text": [
      "[[ 1.00000000e+00 -3.00000000e+00  9.00000000e+00 -2.70000000e+01\n",
      "   8.10000000e+01 -2.43000000e+02]\n",
      " [ 1.00000000e+00 -2.93939394e+00  8.64003673e+00 -2.53964716e+01\n",
      "   7.46502347e+01 -2.19426447e+02]\n",
      " [ 1.00000000e+00 -2.87878788e+00  8.28741965e+00 -2.38577232e+01\n",
      "   6.86813245e+01 -1.97718964e+02]\n",
      " [ 1.00000000e+00 -2.81818182e+00  7.94214876e+00 -2.23824192e+01\n",
      "   6.30777269e+01 -1.77764503e+02]\n",
      " [ 1.00000000e+00 -2.75757576e+00  7.60422406e+00 -2.09692239e+01\n",
      "   5.78242235e+01 -1.59454677e+02]\n",
      " [ 1.00000000e+00 -2.69696970e+00  7.27364555e+00 -1.96168016e+01\n",
      "   5.29059195e+01 -1.42685662e+02]\n",
      " [ 1.00000000e+00 -2.63636364e+00  6.95041322e+00 -1.83238167e+01\n",
      "   4.83082440e+01 -1.27358098e+02]\n",
      " [ 1.00000000e+00 -2.57575758e+00  6.63452709e+00 -1.70889334e+01\n",
      "   4.40169497e+01 -1.13376992e+02]\n",
      " [ 1.00000000e+00 -2.51515152e+00  6.32598714e+00 -1.59108162e+01\n",
      "   4.00181133e+01 -1.00651618e+02]\n",
      " [ 1.00000000e+00 -2.45454545e+00  6.02479339e+00 -1.47881292e+01\n",
      "   3.62981354e+01 -8.90954232e+01]\n",
      " [ 1.00000000e+00 -2.39393939e+00  5.73094582e+00 -1.37195370e+01\n",
      "   3.28437400e+01 -7.86259231e+01]\n",
      " [ 1.00000000e+00 -2.33333333e+00  5.44444444e+00 -1.27037037e+01\n",
      "   2.96419753e+01 -6.91646091e+01]\n",
      " [ 1.00000000e+00 -2.27272727e+00  5.16528926e+00 -1.17392938e+01\n",
      "   2.66802131e+01 -6.06368480e+01]\n",
      " [ 1.00000000e+00 -2.21212121e+00  4.89348026e+00 -1.08249715e+01\n",
      "   2.39461490e+01 -5.29717842e+01]\n",
      " [ 1.00000000e+00 -2.15151515e+00  4.62901745e+00 -9.95940117e+00\n",
      "   2.14278025e+01 -4.61022418e+01]\n",
      " [ 1.00000000e+00 -2.09090909e+00  4.37190083e+00 -9.14124718e+00\n",
      "   1.91135168e+01 -3.99646261e+01]\n",
      " [ 1.00000000e+00 -2.03030303e+00  4.12213039e+00 -8.36917383e+00\n",
      "   1.69919590e+01 -3.44988258e+01]\n",
      " [ 1.00000000e+00 -1.96969697e+00  3.87970615e+00 -7.64184545e+00\n",
      "   1.50521198e+01 -2.96481148e+01]\n",
      " [ 1.00000000e+00 -1.90909091e+00  3.64462810e+00 -6.95792637e+00\n",
      "   1.32833140e+01 -2.53590540e+01]\n",
      " [ 1.00000000e+00 -1.84848485e+00  3.41689624e+00 -6.31608092e+00\n",
      "   1.16751799e+01 -2.15813931e+01]\n",
      " [ 1.00000000e+00 -1.78787879e+00  3.19651056e+00 -5.71497343e+00\n",
      "   1.02176798e+01 -1.82679729e+01]\n",
      " [ 1.00000000e+00 -1.72727273e+00  2.98347107e+00 -5.15326822e+00\n",
      "   8.90109965e+00 -1.53746267e+01]\n",
      " [ 1.00000000e+00 -1.66666667e+00  2.77777778e+00 -4.62962963e+00\n",
      "   7.71604938e+00 -1.28600823e+01]\n",
      " [ 1.00000000e+00 -1.60606061e+00  2.57943067e+00 -4.14272199e+00\n",
      "   6.65346258e+00 -1.06858641e+01]\n",
      " [ 1.00000000e+00 -1.54545455e+00  2.38842975e+00 -3.69120962e+00\n",
      "   5.70459668e+00 -8.81619487e+00]\n",
      " [ 1.00000000e+00 -1.48484848e+00  2.20477502e+00 -3.27375685e+00\n",
      "   4.86103290e+00 -7.21789734e+00]\n",
      " [ 1.00000000e+00 -1.42424242e+00  2.02846648e+00 -2.88902802e+00\n",
      "   4.11467627e+00 -5.86029651e+00]\n",
      " [ 1.00000000e+00 -1.36363636e+00  1.85950413e+00 -2.53568745e+00\n",
      "   3.45775562e+00 -4.71512130e+00]\n",
      " [ 1.00000000e+00 -1.30303030e+00  1.69788797e+00 -2.21239948e+00\n",
      "   2.88282356e+00 -3.75640646e+00]\n",
      " [ 1.00000000e+00 -1.24242424e+00  1.54361800e+00 -1.91782842e+00\n",
      "   2.38275652e+00 -2.96039447e+00]\n",
      " [ 1.00000000e+00 -1.18181818e+00  1.39669421e+00 -1.65063862e+00\n",
      "   1.95075473e+00 -2.30543741e+00]\n",
      " [ 1.00000000e+00 -1.12121212e+00  1.25711662e+00 -1.40949439e+00\n",
      "   1.58034220e+00 -1.77189883e+00]\n",
      " [ 1.00000000e+00 -1.06060606e+00  1.12488522e+00 -1.19306008e+00\n",
      "   1.26536675e+00 -1.34205564e+00]\n",
      " [ 1.00000000e+00 -1.00000000e+00  1.00000000e+00 -1.00000000e+00\n",
      "   1.00000000e+00 -1.00000000e+00]\n",
      " [ 1.00000000e+00 -9.39393939e-01  8.82460973e-01 -8.28978490e-01\n",
      "   7.78737370e-01 -7.31541165e-01]\n",
      " [ 1.00000000e+00 -8.78787879e-01  7.72268136e-01 -6.78659877e-01\n",
      "   5.96398074e-01 -5.24107398e-01]\n",
      " [ 1.00000000e+00 -8.18181818e-01  6.69421488e-01 -5.47708490e-01\n",
      "   4.48125128e-01 -3.66647832e-01]\n",
      " [ 1.00000000e+00 -7.57575758e-01  5.73921028e-01 -4.34788658e-01\n",
      "   3.29385347e-01 -2.49534354e-01]\n",
      " [ 1.00000000e+00 -6.96969697e-01  4.85766758e-01 -3.38564710e-01\n",
      "   2.35969344e-01 -1.64463482e-01]\n",
      " [ 1.00000000e+00 -6.36363636e-01  4.04958678e-01 -2.57700977e-01\n",
      "   1.63991531e-01 -1.04358247e-01]\n",
      " [ 1.00000000e+00 -5.75757576e-01  3.31496786e-01 -1.90861786e-01\n",
      "   1.09890119e-01 -6.32700686e-02]\n",
      " [ 1.00000000e+00 -5.15151515e-01  2.65381084e-01 -1.36711467e-01\n",
      "   7.04271195e-02 -3.62806373e-02]\n",
      " [ 1.00000000e+00 -4.54545455e-01  2.06611570e-01 -9.39143501e-02\n",
      "   4.26883410e-02 -1.94037913e-02]\n",
      " [ 1.00000000e+00 -3.93939394e-01  1.55188246e-01 -6.11347636e-02\n",
      "   2.40833917e-02 -9.48739674e-03]\n",
      " [ 1.00000000e+00 -3.33333333e-01  1.11111111e-01 -3.70370370e-02\n",
      "   1.23456790e-02 -4.11522634e-03]\n",
      " [ 1.00000000e+00 -2.72727273e-01  7.43801653e-02 -2.02854996e-02\n",
      "   5.53240899e-03 -1.50883882e-03]\n",
      " [ 1.00000000e+00 -2.12121212e-01  4.49954086e-02 -9.54448062e-03\n",
      "   2.02458680e-03 -4.29457806e-04]\n",
      " [ 1.00000000e+00 -1.51515152e-01  2.29568411e-02 -3.47830926e-03\n",
      "   5.27016555e-04 -7.98509932e-05]\n",
      " [ 1.00000000e+00 -9.09090909e-02  8.26446281e-03 -7.51314801e-04\n",
      "   6.83013455e-05 -6.20921323e-06]\n",
      " [ 1.00000000e+00 -3.03030303e-02  9.18273646e-04 -2.78264741e-05\n",
      "   8.43226488e-07 -2.55523178e-08]\n",
      " [ 1.00000000e+00  3.03030303e-02  9.18273646e-04  2.78264741e-05\n",
      "   8.43226488e-07  2.55523178e-08]\n",
      " [ 1.00000000e+00  9.09090909e-02  8.26446281e-03  7.51314801e-04\n",
      "   6.83013455e-05  6.20921323e-06]\n",
      " [ 1.00000000e+00  1.51515152e-01  2.29568411e-02  3.47830926e-03\n",
      "   5.27016555e-04  7.98509932e-05]\n",
      " [ 1.00000000e+00  2.12121212e-01  4.49954086e-02  9.54448062e-03\n",
      "   2.02458680e-03  4.29457806e-04]\n",
      " [ 1.00000000e+00  2.72727273e-01  7.43801653e-02  2.02854996e-02\n",
      "   5.53240899e-03  1.50883882e-03]\n",
      " [ 1.00000000e+00  3.33333333e-01  1.11111111e-01  3.70370370e-02\n",
      "   1.23456790e-02  4.11522634e-03]\n",
      " [ 1.00000000e+00  3.93939394e-01  1.55188246e-01  6.11347636e-02\n",
      "   2.40833917e-02  9.48739674e-03]\n",
      " [ 1.00000000e+00  4.54545455e-01  2.06611570e-01  9.39143501e-02\n",
      "   4.26883410e-02  1.94037913e-02]\n",
      " [ 1.00000000e+00  5.15151515e-01  2.65381084e-01  1.36711467e-01\n",
      "   7.04271195e-02  3.62806373e-02]\n",
      " [ 1.00000000e+00  5.75757576e-01  3.31496786e-01  1.90861786e-01\n",
      "   1.09890119e-01  6.32700686e-02]\n",
      " [ 1.00000000e+00  6.36363636e-01  4.04958678e-01  2.57700977e-01\n",
      "   1.63991531e-01  1.04358247e-01]\n",
      " [ 1.00000000e+00  6.96969697e-01  4.85766758e-01  3.38564710e-01\n",
      "   2.35969344e-01  1.64463482e-01]\n",
      " [ 1.00000000e+00  7.57575758e-01  5.73921028e-01  4.34788658e-01\n",
      "   3.29385347e-01  2.49534354e-01]\n",
      " [ 1.00000000e+00  8.18181818e-01  6.69421488e-01  5.47708490e-01\n",
      "   4.48125128e-01  3.66647832e-01]\n",
      " [ 1.00000000e+00  8.78787879e-01  7.72268136e-01  6.78659877e-01\n",
      "   5.96398074e-01  5.24107398e-01]\n",
      " [ 1.00000000e+00  9.39393939e-01  8.82460973e-01  8.28978490e-01\n",
      "   7.78737370e-01  7.31541165e-01]\n",
      " [ 1.00000000e+00  1.00000000e+00  1.00000000e+00  1.00000000e+00\n",
      "   1.00000000e+00  1.00000000e+00]\n",
      " [ 1.00000000e+00  1.06060606e+00  1.12488522e+00  1.19306008e+00\n",
      "   1.26536675e+00  1.34205564e+00]\n",
      " [ 1.00000000e+00  1.12121212e+00  1.25711662e+00  1.40949439e+00\n",
      "   1.58034220e+00  1.77189883e+00]\n",
      " [ 1.00000000e+00  1.18181818e+00  1.39669421e+00  1.65063862e+00\n",
      "   1.95075473e+00  2.30543741e+00]\n",
      " [ 1.00000000e+00  1.24242424e+00  1.54361800e+00  1.91782842e+00\n",
      "   2.38275652e+00  2.96039447e+00]\n",
      " [ 1.00000000e+00  1.30303030e+00  1.69788797e+00  2.21239948e+00\n",
      "   2.88282356e+00  3.75640646e+00]\n",
      " [ 1.00000000e+00  1.36363636e+00  1.85950413e+00  2.53568745e+00\n",
      "   3.45775562e+00  4.71512130e+00]\n",
      " [ 1.00000000e+00  1.42424242e+00  2.02846648e+00  2.88902802e+00\n",
      "   4.11467627e+00  5.86029651e+00]\n",
      " [ 1.00000000e+00  1.48484848e+00  2.20477502e+00  3.27375685e+00\n",
      "   4.86103290e+00  7.21789734e+00]\n",
      " [ 1.00000000e+00  1.54545455e+00  2.38842975e+00  3.69120962e+00\n",
      "   5.70459668e+00  8.81619487e+00]\n",
      " [ 1.00000000e+00  1.60606061e+00  2.57943067e+00  4.14272199e+00\n",
      "   6.65346258e+00  1.06858641e+01]\n",
      " [ 1.00000000e+00  1.66666667e+00  2.77777778e+00  4.62962963e+00\n",
      "   7.71604938e+00  1.28600823e+01]\n",
      " [ 1.00000000e+00  1.72727273e+00  2.98347107e+00  5.15326822e+00\n",
      "   8.90109965e+00  1.53746267e+01]\n",
      " [ 1.00000000e+00  1.78787879e+00  3.19651056e+00  5.71497343e+00\n",
      "   1.02176798e+01  1.82679729e+01]\n",
      " [ 1.00000000e+00  1.84848485e+00  3.41689624e+00  6.31608092e+00\n",
      "   1.16751799e+01  2.15813931e+01]\n",
      " [ 1.00000000e+00  1.90909091e+00  3.64462810e+00  6.95792637e+00\n",
      "   1.32833140e+01  2.53590540e+01]\n",
      " [ 1.00000000e+00  1.96969697e+00  3.87970615e+00  7.64184545e+00\n",
      "   1.50521198e+01  2.96481148e+01]\n",
      " [ 1.00000000e+00  2.03030303e+00  4.12213039e+00  8.36917383e+00\n",
      "   1.69919590e+01  3.44988258e+01]\n",
      " [ 1.00000000e+00  2.09090909e+00  4.37190083e+00  9.14124718e+00\n",
      "   1.91135168e+01  3.99646261e+01]\n",
      " [ 1.00000000e+00  2.15151515e+00  4.62901745e+00  9.95940117e+00\n",
      "   2.14278025e+01  4.61022418e+01]\n",
      " [ 1.00000000e+00  2.21212121e+00  4.89348026e+00  1.08249715e+01\n",
      "   2.39461490e+01  5.29717842e+01]\n",
      " [ 1.00000000e+00  2.27272727e+00  5.16528926e+00  1.17392938e+01\n",
      "   2.66802131e+01  6.06368480e+01]\n",
      " [ 1.00000000e+00  2.33333333e+00  5.44444444e+00  1.27037037e+01\n",
      "   2.96419753e+01  6.91646091e+01]\n",
      " [ 1.00000000e+00  2.39393939e+00  5.73094582e+00  1.37195370e+01\n",
      "   3.28437400e+01  7.86259231e+01]\n",
      " [ 1.00000000e+00  2.45454545e+00  6.02479339e+00  1.47881292e+01\n",
      "   3.62981354e+01  8.90954232e+01]\n",
      " [ 1.00000000e+00  2.51515152e+00  6.32598714e+00  1.59108162e+01\n",
      "   4.00181133e+01  1.00651618e+02]\n",
      " [ 1.00000000e+00  2.57575758e+00  6.63452709e+00  1.70889334e+01\n",
      "   4.40169497e+01  1.13376992e+02]\n",
      " [ 1.00000000e+00  2.63636364e+00  6.95041322e+00  1.83238167e+01\n",
      "   4.83082440e+01  1.27358098e+02]\n",
      " [ 1.00000000e+00  2.69696970e+00  7.27364555e+00  1.96168016e+01\n",
      "   5.29059195e+01  1.42685662e+02]\n",
      " [ 1.00000000e+00  2.75757576e+00  7.60422406e+00  2.09692239e+01\n",
      "   5.78242235e+01  1.59454677e+02]\n",
      " [ 1.00000000e+00  2.81818182e+00  7.94214876e+00  2.23824192e+01\n",
      "   6.30777269e+01  1.77764503e+02]\n",
      " [ 1.00000000e+00  2.87878788e+00  8.28741965e+00  2.38577232e+01\n",
      "   6.86813245e+01  1.97718964e+02]\n",
      " [ 1.00000000e+00  2.93939394e+00  8.64003673e+00  2.53964716e+01\n",
      "   7.46502347e+01  2.19426447e+02]\n",
      " [ 1.00000000e+00  3.00000000e+00  9.00000000e+00  2.70000000e+01\n",
      "   8.10000000e+01  2.43000000e+02]]\n"
     ]
    }
   ],
   "source": [
    "def polynomial_features(x, p):\n",
    "    n = len(x)\n",
    "    X = np.zeros((n, p + 1))\n",
    "    for i in range(0,p+1):\n",
    "        X[:,i] = x**i\n",
    "    return X\n",
    "    \n",
    "X = polynomial_features(x, 5)\n",
    "\n",
    "print(X)"
   ]
  },
  {
   "cell_type": "markdown",
   "id": "b84b1e31",
   "metadata": {},
   "source": [
    "**b)** Use the expression from **2d)** to find the optimal parameters $\\boldsymbol{\\hat{\\beta}_{OLS}}$ for predicting $\\boldsymbol{y}$ based on these features. If you have done everything right so far, this code will not need changing."
   ]
  },
  {
   "cell_type": "code",
   "execution_count": 7,
   "id": "034f502c",
   "metadata": {},
   "outputs": [],
   "source": [
    "beta = OLS_parameters(X, y)"
   ]
  },
  {
   "cell_type": "markdown",
   "id": "d703f788",
   "metadata": {},
   "source": [
    "**c)** Like in exercise 4 last week, split your feature matrix and target data into a training split and test split."
   ]
  },
  {
   "cell_type": "code",
   "execution_count": 8,
   "id": "29171358",
   "metadata": {},
   "outputs": [],
   "source": [
    "from sklearn.model_selection import train_test_split\n",
    "\n",
    "X_train, X_test, y_train, y_test = train_test_split(X, y, test_size=0.2,)\n",
    "\n",
    "\n"
   ]
  },
  {
   "cell_type": "markdown",
   "id": "a0e3509f",
   "metadata": {},
   "source": [
    "**d)** Train your model on the training data(find the parameters which best fit) and compute the MSE on both the training and test data."
   ]
  },
  {
   "cell_type": "code",
   "execution_count": 9,
   "id": "1e346f4c",
   "metadata": {},
   "outputs": [
    {
     "name": "stdout",
     "output_type": "stream",
     "text": [
      "0.022928698722359083\n",
      "0.029131113170331797\n"
     ]
    }
   ],
   "source": [
    "from sklearn.metrics import mean_squared_error\n",
    "\n",
    "#Training and testing with the OLS_parameters function I previously defined. \n",
    "model_train = X_train @ beta\n",
    "model_test = X_test @ beta\n",
    "\n",
    "train_mse = mean_squared_error(y_train, model_train)\n",
    "test_mse = mean_squared_error(y_test,model_test)\n",
    "\n",
    "print(train_mse)\n",
    "print(test_mse)\n",
    "                                                \n"
   ]
  },
  {
   "cell_type": "markdown",
   "id": "7e431889",
   "metadata": {},
   "source": [
    "**e)** Do the same for each polynomial degree from 2 to 10, and plot the MSE on both the training and test data as a function of polynomial degree. The aim is to reproduce Figure 2.11 of [Hastie et al](https://github.com/CompPhysics/MLErasmus/blob/master/doc/Textbooks/elementsstat.pdf). Feel free to read the discussions leading to figure 2.11 of Hastie et al. "
   ]
  },
  {
   "cell_type": "code",
   "execution_count": 10,
   "id": "ceb57457",
   "metadata": {},
   "outputs": [
    {
     "name": "stdout",
     "output_type": "stream",
     "text": [
      "Train MSE: {2: 0.05638268510129788, 3: 0.036390842033671024, 4: 0.034502605500949086, 5: 0.026543444272893662, 6: 0.01781001902218951, 7: 0.01431353519612224, 8: 0.010874574061727019, 9: 0.010813140329604412, 10: 0.010395014927458054}\n",
      "Test MSE: {2: 0.051675800565256336, 3: 0.01958458449718793, 4: 0.021397008458019957, 5: 0.016407446180921968, 6: 0.025637538915896235, 7: 0.014590690237244455, 8: 0.009785356550018793, 9: 0.009516861260271476, 10: 0.007523696647804004}\n"
     ]
    },
    {
     "data": {
      "image/png": "[encoded data removed]",
      "text/plain": [
       "<Figure size 640x480 with 1 Axes>"
      ]
     },
     "metadata": {},
     "output_type": "display_data"
    }
   ],
   "source": [
    "import matplotlib.pyplot as plt\n",
    "\n",
    "\n",
    "x_train, x_test, y_train, y_test = train_test_split(x, y, test_size=0.2,)\n",
    "\n",
    "train_mse = {}\n",
    "test_mse = {}\n",
    "\n",
    "for t in range(2,11):\n",
    "    Model_train = polynomial_features(x_train,t)\n",
    "    Model_test = polynomial_features(x_test,t)\n",
    "\n",
    "    OLS_beta  = OLS_parameters(Model_train, y_train)\n",
    "\n",
    "    pred_Model_train = Model_train @ OLS_beta\n",
    "    pred_Model_test = Model_test @ OLS_beta\n",
    "    \n",
    "    train_mse[t] = mean_squared_error(y_train , pred_Model_train)\n",
    "    test_mse[t] = mean_squared_error(y_test , pred_Model_test) \n",
    "\n",
    "print(\"Train MSE:\" , train_mse)\n",
    "print(\"Test MSE:\", test_mse)\n",
    "\n",
    "\n",
    "\n",
    "degrees = list(range(2, 11))\n",
    "plt.figure()\n",
    "plt.plot(degrees, [train_mse[d] for d in degrees], marker='o', label='Train MSE')\n",
    "plt.plot(degrees, [test_mse[d]  for d in degrees], marker='o', label='Test MSE')\n",
    "plt.xlabel('Polynomial degree/ Model complexity')\n",
    "plt.ylabel('MSE')\n",
    "plt.legend(); plt.title('Train vs Test MSE')\n",
    "plt.show()\n",
    "    "
   ]
  },
  {
   "cell_type": "markdown",
   "id": "5e5b5954",
   "metadata": {},
   "source": [
    "**f)** Interpret the graph. Why do the lines move as they do? What does it tell us about model performance and generalizability?"
   ]
  },
  {
   "cell_type": "markdown",
   "id": "e2120dcc",
   "metadata": {
    "vscode": {
     "languageId": "raw"
    }
   },
   "source": [
    "**f)** Figure 2.11 shows the realtionship between model complexity and MSE.\n",
    "We see that the test mse tends to zero when complexity is increasing, however the test mse has a U-shaped graph. \n",
    "This is due to what we call overfitting, meaning that the model is so complex to the point where it will approximate the peculiarities and random noise from the training data. Hence, if we have outliers and different random noise in the test the MSE will become high, making generalizability worse. \n",
    "\n"
   ]
  },
  {
   "cell_type": "markdown",
   "id": "5994f0c5",
   "metadata": {},
   "source": [
    "## Exercise 5 - Comparing your code with sklearn"
   ]
  },
  {
   "cell_type": "markdown",
   "id": "8f595b7a",
   "metadata": {},
   "source": [
    "When implementing different algorithms for the first time, it can be helpful to double check your results with established implementations before you go on to add more complexity."
   ]
  },
  {
   "cell_type": "markdown",
   "id": "8ab310c1",
   "metadata": {},
   "source": [
    "**a)** Make sure your `polynomial_features` function creates the same feature matrix as sklearns PolynomialFeatures.\n",
    "\n",
    "(https://scikit-learn.org/stable/modules/generated/sklearn.preprocessing.PolynomialFeatures.html)"
   ]
  },
  {
   "cell_type": "code",
   "execution_count": 11,
   "id": "85b964d1",
   "metadata": {},
   "outputs": [
    {
     "data": {
      "text/plain": [
       "True"
      ]
     },
     "execution_count": 11,
     "metadata": {},
     "output_type": "execute_result"
    }
   ],
   "source": [
    "from sklearn.linear_model import LinearRegression\n",
    "from sklearn.preprocessing import PolynomialFeatures\n",
    "\n",
    "poly_features = PolynomialFeatures(5)\n",
    "poly_matrix = poly_features.fit_transform(x.reshape(n,1))\n",
    "\n",
    "model_matrix = polynomial_features(x,5)\n",
    "\n",
    "np.allclose(poly_matrix,model_matrix)\n",
    "\n",
    "\n",
    "\n",
    "\n",
    "\n"
   ]
  },
  {
   "cell_type": "markdown",
   "id": "73c32c52",
   "metadata": {},
   "source": [
    "**b)** Make sure your `OLS_parameters` function computes the same parameters as sklearns LinearRegression with fit_intercept set to False, since the intercept is included in the feature matrix. Use `your_model_object.coef_` to extract the computed parameters.\n",
    "\n",
    "(https://scikit-learn.org/stable/modules/generated/sklearn.linear_model.LinearRegression.html)"
   ]
  },
  {
   "cell_type": "code",
   "execution_count": 12,
   "id": "35b04126",
   "metadata": {},
   "outputs": [
    {
     "name": "stdout",
     "output_type": "stream",
     "text": [
      "[ 0.81907959  0.26950847 -0.01012914  0.05510795 -0.00539958 -0.00887991]\n",
      "[ 0.81907959  0.26950847 -0.01012914  0.05510795 -0.00539958 -0.00887991]\n"
     ]
    }
   ],
   "source": [
    "poly_model = LinearRegression(fit_intercept=False).fit(model_matrix, y)\n",
    "beta = OLS_parameters(model_matrix,y)\n",
    "\n",
    "print(poly_model.coef_)\n",
    "print(beta)\n",
    "\n",
    "#As we can see from the output, the coefficients match exactly. \n"
   ]
  }
 ],
 "metadata": {
  "kernelspec": {
   "display_name": "base",
   "language": "python",
   "name": "python3"
  },
  "language_info": {
   "codemirror_mode": {
    "name": "ipython",
    "version": 3
   },
   "file_extension": ".py",
   "mimetype": "text/x-python",
   "name": "python",
   "nbconvert_exporter": "python",
   "pygments_lexer": "ipython3",
   "version": "3.13.5"
  }
 },
 "nbformat": 4,
 "nbformat_minor": 5
}
